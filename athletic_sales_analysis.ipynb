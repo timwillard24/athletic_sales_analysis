{
 "cells": [
  {
   "cell_type": "code",
   "execution_count": null,
   "metadata": {},
   "outputs": [],
   "source": [
    "# Import Libraries and Dependencies\n",
    "import pandas as pd"
   ]
  },
  {
   "cell_type": "markdown",
   "metadata": {},
   "source": [
    "### 1. Combine and Clean the Data\n",
    "#### Import CSVs"
   ]
  },
  {
   "cell_type": "code",
   "execution_count": null,
   "metadata": {},
   "outputs": [],
   "source": [
    "# Read the CSV files into DataFrames.\n",
    "\n",
    "athletic_sales_2020_path = 'Resources/athletic_sales_2020.csv'\n",
    "athletic_sales_2021_path = 'Resources/athletic_sales_2021.csv'\n",
    "\n",
    "athletic_sales_2020_df = pd.read_csv(athletic_sales_2020_path)\n",
    "athletic_sales_2021_df = pd.read_csv(athletic_sales_2021_path)\n",
    "\n",
    "print(athletic_sales_2020_df.head())\n",
    "print(athletic_sales_2021_df.head())\n"
   ]
  },
  {
   "cell_type": "code",
   "execution_count": null,
   "metadata": {},
   "outputs": [],
   "source": [
    "# Display the 2020 sales DataFrame\n",
    "athletic_sales_2020_df"
   ]
  },
  {
   "cell_type": "code",
   "execution_count": null,
   "metadata": {},
   "outputs": [],
   "source": [
    "# Display the 2021 sales DataFrame\n",
    "\n",
    "athletic_sales_2021_df"
   ]
  },
  {
   "cell_type": "markdown",
   "metadata": {},
   "source": [
    "#### Check the data types of each DataFrame"
   ]
  },
  {
   "cell_type": "code",
   "execution_count": null,
   "metadata": {},
   "outputs": [],
   "source": [
    "# Check the 2020 sales data types.\n",
    "athletic_sales_2020_df.info()"
   ]
  },
  {
   "cell_type": "code",
   "execution_count": null,
   "metadata": {},
   "outputs": [],
   "source": [
    "athletic_sales_2020_df.columns"
   ]
  },
  {
   "cell_type": "code",
   "execution_count": null,
   "metadata": {},
   "outputs": [],
   "source": [
    "# Check the 2021 sales data types.\n",
    "athletic_sales_2021_df.info()\n",
    "\n"
   ]
  },
  {
   "cell_type": "code",
   "execution_count": null,
   "metadata": {},
   "outputs": [],
   "source": [
    "athletic_sales_2021_df.columns"
   ]
  },
  {
   "cell_type": "markdown",
   "metadata": {},
   "source": [
    "#### Combine the sales data by rows."
   ]
  },
  {
   "cell_type": "code",
   "execution_count": null,
   "metadata": {},
   "outputs": [],
   "source": [
    "# Combine the 2020 and 2021 sales DataFrames on the rows and reset the index.\n",
    "combined_athletic_sales_df = pd.concat([athletic_sales_2020_df, athletic_sales_2021_df], join='inner')\n",
    "combined_athletic_sales_df.reset_index(drop=True, inplace=True)\n",
    "combined_athletic_sales_df"
   ]
  },
  {
   "cell_type": "code",
   "execution_count": null,
   "metadata": {},
   "outputs": [],
   "source": [
    "# Check if any values are null.\n",
    "null_values=combined_athletic_sales_df.isnull().sum()\n",
    "null_values"
   ]
  },
  {
   "cell_type": "code",
   "execution_count": null,
   "metadata": {},
   "outputs": [],
   "source": [
    "# Check the data type of each column\n",
    "combined_athletic_sales_df.info()"
   ]
  },
  {
   "cell_type": "code",
   "execution_count": null,
   "metadata": {},
   "outputs": [],
   "source": [
    "combined_athletic_sales_df.columns"
   ]
  },
  {
   "cell_type": "code",
   "execution_count": null,
   "metadata": {},
   "outputs": [],
   "source": [
    "# Convert the \"invoice_date\" to a datetime datatype\n",
    "combined_athletic_sales_df['invoice_date'] = pd.to_datetime(combined_athletic_sales_df['invoice_date'], format='mixed' )\n",
    "combined_athletic_sales_df"
   ]
  },
  {
   "cell_type": "code",
   "execution_count": null,
   "metadata": {},
   "outputs": [],
   "source": [
    "# Confirm that the \"invoice_date\" data type has been changed.\n",
    "combined_athletic_sales_df.info()"
   ]
  },
  {
   "cell_type": "markdown",
   "metadata": {},
   "source": [
    "### 2. Determine which Region Sold the Most Products"
   ]
  },
  {
   "cell_type": "markdown",
   "metadata": {},
   "source": [
    "#### Using `groupby`"
   ]
  },
  {
   "cell_type": "code",
   "execution_count": null,
   "metadata": {},
   "outputs": [],
   "source": [
    "# Show the number products sold for region, state, and city.\n",
    "# Rename the sum to \"Total_Products_Sold\".\n",
    "\n",
    "combined_athletic_sales_groupby_df = combined_athletic_sales_df.groupby(['region', 'state', 'city'])['units_sold'].sum().reset_index(name='Total_Products_Sold')\n",
    "comnined_athletic_sales_groupby_df_sorted = combined_athletic_sales_groupby_df.sort_values(by='Total_Products_Sold', ascending=False)\n",
    "comnined_athletic_sales_groupby_df_sorted\n",
    "# Show the top 5 results.\n",
    "top_5_results = comnined_athletic_sales_groupby_df_sorted.head(5)\n",
    "top_5_results"
   ]
  },
  {
   "cell_type": "markdown",
   "metadata": {},
   "source": [
    "#### Using `pivot_table`"
   ]
  },
  {
   "cell_type": "code",
   "execution_count": null,
   "metadata": {},
   "outputs": [],
   "source": [
    "combined_athletic_sales_df.columns"
   ]
  },
  {
   "cell_type": "code",
   "execution_count": null,
   "metadata": {},
   "outputs": [],
   "source": [
    "# Show the number products sold for region, state, and city.\n",
    "pivot_combined_sales_df = combined_athletic_sales_df.pivot_table(values='units_sold', index=['region', 'state', 'city'], aggfunc='sum')\n",
    "pivot_combined_sales_df_sorted = pivot_combined_sales_df.sort_values(by='units_sold', ascending=False)\n",
    "#pivot_combined_sales_df_sorted\n",
    "# Rename the \"units_sold\" column to \"Total_Products_Sold\"\n",
    "pivot_combined_sales_df_sorted = pivot_combined_sales_df_sorted.rename(columns={'units_sold': 'Total_Products_Sold'})\n",
    "pivot_combined_sales_df_sorted\n",
    "\n",
    "# Show the top 5 results.\n",
    "pivot_top_5 = pivot_combined_sales_df_sorted.head(5)\n",
    "pivot_top_5"
   ]
  },
  {
   "cell_type": "markdown",
   "metadata": {},
   "source": [
    "### 3. Determine which Region had the Most Sales"
   ]
  },
  {
   "cell_type": "markdown",
   "metadata": {},
   "source": [
    "#### Using `groupby`"
   ]
  },
  {
   "cell_type": "code",
   "execution_count": null,
   "metadata": {},
   "outputs": [],
   "source": [
    "# Show the total sales for the products sold for each region, state, and city.\n",
    "# Rename the \"total_sales\" column to \"Total Sales\"\n",
    "most_regional_sales_groupby_df = combined_athletic_sales_df.groupby(['region', 'state', 'city'])['total_sales'].sum().reset_index(name='Total_Sales')\n",
    "most_regional_sales_groupby_df_sorted = most_regional_sales_groupby_df.sort_values(by='Total_Sales', ascending=False)\n",
    "most_regional_sales_groupby_df_sorted\n",
    "# Show the top 5 results.\n",
    "top_5_regions = most_regional_sales_groupby_df_sorted.head(5)\n",
    "top_5_regions"
   ]
  },
  {
   "cell_type": "markdown",
   "metadata": {},
   "source": [
    "#### Using `pivot_table`"
   ]
  },
  {
   "cell_type": "code",
   "execution_count": null,
   "metadata": {},
   "outputs": [],
   "source": [
    "# Show the total sales for the products sold for each region, state, and city.\n",
    "pivot_most_region_sales_df = combined_athletic_sales_df.pivot_table(values='total_sales', index=['region','state','city'],aggfunc='sum')\n",
    "pivot_most_region_sales_df_sorted = pivot_most_region_sales_df.sort_values(by='total_sales', ascending=False)\n",
    "pivot_most_region_sales_df_sorted\n",
    "# Optional: Rename the \"total_sales\" column to \"Total Sales\"\n",
    "pivot_most_region_sales_df_sorted = pivot_most_region_sales_df_sorted.rename(columns={'total_sales':'Total Sales'})\n",
    "pivot_most_region_sales_df_sorted\n",
    "# Show the top 5 results.\n",
    "mostregional_top_5 = pivot_most_region_sales_df_sorted.head(5)\n",
    "mostregional_top_5"
   ]
  },
  {
   "cell_type": "markdown",
   "metadata": {},
   "source": [
    "### 4. Determine which Retailer had the Most Sales"
   ]
  },
  {
   "cell_type": "markdown",
   "metadata": {},
   "source": [
    "#### Using `groupby`"
   ]
  },
  {
   "cell_type": "code",
   "execution_count": null,
   "metadata": {},
   "outputs": [],
   "source": [
    "# Show the total sales for the products sold for each retailer, region, state, and city.\n",
    "# Rename the \"total_sales\" column to \"Total Sales\"\n",
    "most_retailer_sales_groupby_df = combined_athletic_sales_df.groupby(['retailer','region', 'state', 'city'])['total_sales'].sum().reset_index(name='Total_Sales')\n",
    "most_retailer_sales_groupby_df_sorted = most_retailer_sales_groupby_df.sort_values(by='Total_Sales', ascending=False)\n",
    "most_retailer_sales_groupby_df_sorted\n",
    "# Show the top 5 results.\n",
    "top_5_retailers = most_retailer_sales_groupby_df_sorted.head(5)\n",
    "top_5_retailers"
   ]
  },
  {
   "cell_type": "markdown",
   "metadata": {},
   "source": [
    "#### Using `pivot_table`"
   ]
  },
  {
   "cell_type": "code",
   "execution_count": null,
   "metadata": {},
   "outputs": [],
   "source": [
    "# Show the total sales for the products sold for each retailer, region, state, and city.\n",
    "pivot_top_retailer_sales_df= combined_athletic_sales_df.pivot_table(values='total_sales', index=['retailer', 'region', 'state', 'city'], aggfunc='sum')\n",
    "pivot_top_retailer_sales_df_sorted = pivot_top_retailer_sales_df.sort_values(by='total_sales', ascending=False)\n",
    "pivot_top_retailer_sales_df_sorted\n",
    "# Optional: Rename the \"total_sales\" column to \"Total Sales\"\n",
    "pivot_top_retailer_sales_df_sorted = pivot_top_retailer_sales_df_sorted.rename(columns={'total_sales': 'Total Sales'})\n",
    "pivot_top_retailer_sales_df_sorted \n",
    "# Show the top 5 results.\n",
    "pivot_top_5_retailers = pivot_top_retailer_sales_df_sorted.head(5)\n",
    "pivot_top_5_retailers"
   ]
  },
  {
   "cell_type": "markdown",
   "metadata": {},
   "source": [
    "### 5. Determine which Retailer Sold the Most Women's Athletic Footwear"
   ]
  },
  {
   "cell_type": "code",
   "execution_count": null,
   "metadata": {},
   "outputs": [],
   "source": [
    "# Filter the sales data to get the women's athletic footwear sales data.\n",
    "womens_atheletic_sales_df = combined_athletic_sales_df[combined_athletic_sales_df['product'].str.contains(\"Women's Athletic Footwear\")]\n",
    "womens_atheletic_sales_df"
   ]
  },
  {
   "cell_type": "markdown",
   "metadata": {},
   "source": [
    "#### Using `groupby`"
   ]
  },
  {
   "cell_type": "code",
   "execution_count": null,
   "metadata": {},
   "outputs": [],
   "source": [
    "# Show the total number of women's athletic footwear sold for each retailer, region, state, and city.\n",
    "# Rename the \"units_sold\" column to \"Womens_Footwear_Units_Sold\"\n",
    "womens_atheletic_sales_groupby_df = womens_atheletic_sales_df.groupby(['retailer','region', 'state', 'city'])['units_sold'].sum().reset_index(name='Womens_Footwear_Units_Sold')\n",
    "womens_atheletic_sales_groupby_df_sorted = womens_atheletic_sales_groupby_df.sort_values(by='Womens_Footwear_Units_Sold', ascending=False)\n",
    "womens_atheletic_sales_groupby_df_sorted \n",
    "\n",
    "# Show the top 5 results.\n",
    "womens_atheletic_sales_top_5 = womens_atheletic_sales_groupby_df_sorted.head(5)\n",
    "womens_atheletic_sales_top_5\n"
   ]
  },
  {
   "cell_type": "markdown",
   "metadata": {},
   "source": [
    "#### Using `pivot_table`"
   ]
  },
  {
   "cell_type": "code",
   "execution_count": null,
   "metadata": {},
   "outputs": [],
   "source": [
    "# Show the total number of women's athletic footwear sold for each retailer, region, state, and city.\n",
    "\n",
    "pivot_womens_atheltics_sales_df = womens_atheletic_sales_df.pivot_table(values='units_sold', index=['retailer', 'region', 'state', 'city'], aggfunc='sum')\n",
    "pivot_womens_atheltics_sales_df_sorted = pivot_womens_atheltics_sales_df.sort_values(by='units_sold', ascending=False)\n",
    "pivot_womens_atheltics_sales_df_sorted\n",
    "# Rename the \"units_sold\" column to \"Womens_Footwear_Units_Sold\"\n",
    "pivot_womens_atheltics_sales_df_sorted = pivot_womens_atheltics_sales_df_sorted.rename(columns={'units_sold': 'Womens_Footwear_Units_Sold'})\n",
    "pivot_womens_atheltics_sales_df_sorted\n",
    "# Show the top 5 results.\n",
    "top_5_womens_athletic = pivot_womens_atheltics_sales_df_sorted.head(5)\n",
    "top_5_womens_athletic"
   ]
  },
  {
   "cell_type": "markdown",
   "metadata": {},
   "source": [
    "### 6. Determine the Day with the Most Women's Athletic Footwear Sales"
   ]
  },
  {
   "cell_type": "code",
   "execution_count": null,
   "metadata": {},
   "outputs": [],
   "source": [
    "womens_atheletic_sales_df.columns"
   ]
  },
  {
   "cell_type": "code",
   "execution_count": null,
   "metadata": {},
   "outputs": [],
   "source": [
    "# Create a pivot table with the 'invoice_date' column is the index, and the \"total_sales\" as the values.\n",
    "\n",
    "pivot_most_women_day_df = womens_atheletic_sales_df.pivot_table(values='total_sales', index='invoice_date', aggfunc='sum')\n",
    "pivot_most_women_day_df_sorted = pivot_most_women_day_df.sort_values(by='total_sales', ascending=False)\n",
    "pivot_most_women_day_df_sorted\n",
    "# Optional: Rename the \"total_sales\" column to \"Total Sales\"\n",
    "pivot_most_women_day_df_sorted = pivot_most_women_day_df_sorted.rename(columns={'total_sales': 'Total Sales'})\n",
    "pivot_most_women_day_df_sorted\n",
    "# Show the table.\n",
    "most_women_day_top = pivot_most_women_day_df_sorted.head(10)\n",
    "most_women_day_top"
   ]
  },
  {
   "cell_type": "code",
   "execution_count": null,
   "metadata": {},
   "outputs": [],
   "source": [
    "# Resample the pivot table into daily bins, and get the total sales for each day.\n",
    "women_day_sales = pivot_most_women_day_df_sorted.resample('D').sum()\n",
    "women_day_sales\n",
    "# Sort the resampled pivot table in descending order on \"Total Sales\".\n",
    "women_day_sales_sorted = women_day_sales.sort_values(by='Total Sales', ascending=False).head(10)\n",
    "women_day_sales_sorted"
   ]
  },
  {
   "cell_type": "markdown",
   "metadata": {},
   "source": [
    "### 7.  Determine the Week with the Most Women's Athletic Footwear Sales"
   ]
  },
  {
   "cell_type": "code",
   "execution_count": null,
   "metadata": {},
   "outputs": [],
   "source": [
    "# Resample the pivot table into weekly bins, and get the total sales for each week.\n",
    "women_weekly_sales = pivot_most_women_day_df_sorted.resample('W').sum()\n",
    "women_weekly_sales\n",
    "\n",
    "# Sort the resampled pivot table in descending order on \"Total Sales\".\n",
    "women_weekly_sales_sorted = women_weekly_sales.sort_values(by='Total Sales', ascending=False).head(10)\n",
    "women_weekly_sales_sorted"
   ]
  },
  {
   "cell_type": "code",
   "execution_count": null,
   "metadata": {},
   "outputs": [],
   "source": []
  }
 ],
 "metadata": {
  "kernelspec": {
   "display_name": "Python 3 (ipykernel)",
   "language": "python",
   "name": "python3"
  },
  "language_info": {
   "codemirror_mode": {
    "name": "ipython",
    "version": 3
   },
   "file_extension": ".py",
   "mimetype": "text/x-python",
   "name": "python",
   "nbconvert_exporter": "python",
   "pygments_lexer": "ipython3",
   "version": "3.12.4"
  }
 },
 "nbformat": 4,
 "nbformat_minor": 4
}
